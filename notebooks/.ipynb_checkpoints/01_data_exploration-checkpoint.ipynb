{
 "cells": [
  {
   "cell_type": "code",
   "execution_count": null,
   "id": "4d18d8d5",
   "metadata": {
    "vscode": {
     "languageId": "plaintext"
    }
   },
   "outputs": [],
   "source": [
    "import pandas as pd\n",
    "columns = [\n",
    "    'age', 'workclass', 'fnlwgt', 'education', 'education-num', 'marital-status',\n",
    "    'occupation', 'relationship', 'race', 'sex', 'capital-gain', 'capital-loss',\n",
    "    'hours-per-week', 'native-country', 'income'\n",
    "]\n",
    "train = pd.read_csv('../data/raw/adult.data', names=columns, na_values='?', skipinitialspace=True)\n",
    "test = pd.read_csv('../data/raw/adult.test', names=columns, na_values='?', skipinitialspace=True, skiprows=1)\n",
    "train.head()\n",
    "test.head()"
   ]
  }
 ],
 "metadata": {
  "language_info": {
   "name": "python"
  }
 },
 "nbformat": 4,
 "nbformat_minor": 5
}
